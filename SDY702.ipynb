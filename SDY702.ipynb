{
 "cells": [
  {
   "cell_type": "code",
   "execution_count": 1,
   "metadata": {},
   "outputs": [],
   "source": [
    "%matplotlib inline\n",
    "import matplotlib.pyplot as plt\n",
    "import pandas as pd\n",
    "import qgrid\n"
   ]
  },
  {
   "cell_type": "code",
   "execution_count": 2,
   "metadata": {},
   "outputs": [],
   "source": [
    "META_DATA_DIR=\"../SDY702\""
   ]
  },
  {
   "cell_type": "code",
   "execution_count": 3,
   "metadata": {},
   "outputs": [],
   "source": [
    "FCSall = pd.read_table(META_DATA_DIR + \"/SDY702-DR26_Subject_2_Flow_cytometry_result.txt\",sep=\"\\t\")\n",
    "pd.options.display.max_columns = 50\n",
    "pd.set_option('display.max_rows', 50000)"
   ]
  },
  {
   "cell_type": "code",
   "execution_count": null,
   "metadata": {},
   "outputs": [],
   "source": []
  },
  {
   "cell_type": "code",
   "execution_count": 4,
   "metadata": {},
   "outputs": [],
   "source": [
    "keep = [ \"Subject Accession\",\"Race\",\"Gender\",\"Subject Age\",\"Biosample Type\",\"File Info ID\", \"Reagent Name\", \"File Name\"]\n",
    "FCS = FCSall [keep]\n"
   ]
  },
  {
   "cell_type": "code",
   "execution_count": 6,
   "metadata": {},
   "outputs": [
    {
     "data": {
      "text/plain": [
       "Reagent Name\n",
       "CD3-BV650,CD4-PeCy7,CD8-APC-Cy7,CD19-PE-AF610,CD28-PE,CD45RA-BV605,CD45RO-PerCP-eF710,CD69-BV421,CD127-BV711,CCR7-AF488,CD103-AF647,T cell Surface Panel      384\n",
       "CD3-BV650,CD4-PeCy7,CD8-APC-Cy7,CD19-PE-AF610,CD28-PE,CD45RA-BV605,CD45RO-PerCP-eF710,CD69-BV421,CD127-BV711,CCR7-AF488,Ki67-PE,T cell proliferation panel     96\n",
       "CD3-BV650,CD45RA-BV605,,,,,,,T cell Surface Panel 2                                                                                                            18\n",
       "CD3-BV650,CD8-APC-Cy7,CD19-PE-AF610,CD45RA-BV605,CD45RO-PerCP-eF710,CD69-BV421,CCR7-AF488,,,,,,T cell Surface Panel 5                                          18\n",
       "CD3-BV650,CD8-APC-Cy7,CD19-PE-AF610,CD45RA-BV605,CD45RO-PerCP-eF710,CD69-BV421,CCR7-AF488,,,,,T cell Surface Panel 4                                           18\n",
       "CD3-BV650,CD8-APC-Cy7,CD19-PE-AF610,CD45RA-BV605,CD45RO-PerCP-eF710,CD69-BV421,CCR7-AF488,,,,,T cell Surface Panel 6                                           18\n",
       "CD3-BV650,CD8-APC-Cy7,CD19-PE-AF610,CD45RA-BV605,CD45RO-PerCP-eF710,CD69-BV421,CCR7-AF488,,,,,T cell Surface Panel 7                                           32\n",
       "CD8-APC-Cy7,CD45RA-BV605,CD45RO-PerCP-eF710,CD69-BV421,CCR7-AF488,,,,,T cell Surface Panel 3                                                                   18\n",
       "Name: Biosample Type, dtype: int64"
      ]
     },
     "execution_count": 6,
     "metadata": {},
     "output_type": "execute_result"
    }
   ],
   "source": [
    "FCS.groupby(\"Reagent Name\").count()[\"Biosample Type\"]\n"
   ]
  },
  {
   "cell_type": "code",
   "execution_count": 5,
   "metadata": {
    "scrolled": false
   },
   "outputs": [
    {
     "data": {
      "application/vnd.jupyter.widget-view+json": {
       "model_id": "9b8758a0e10348da949dd72a962ebd27",
       "version_major": 2,
       "version_minor": 0
      },
      "text/plain": [
       "QgridWidget(grid_options={'fullWidthRows': True, 'syncColumnCellResize': True, 'forceFitColumns': False, 'defa…"
      ]
     },
     "metadata": {},
     "output_type": "display_data"
    }
   ],
   "source": [
    "qgrid.show_grid(FCS, grid_options={'forceFitColumns': False, 'defaultColumnWidth': 200})"
   ]
  },
  {
   "cell_type": "code",
   "execution_count": 6,
   "metadata": {},
   "outputs": [
    {
     "data": {
      "text/plain": [
       "Reagent Name\n",
       "CD3-BV650,CD4-PeCy7,CD8-APC-Cy7,CD19-PE-AF610,CD28-PE,CD45RA-BV605,CD45RO-PerCP-eF710,CD69-BV421,CD127-BV711,CCR7-AF488,CD103-AF647,T cell Surface Panel      384\n",
       "CD3-BV650,CD4-PeCy7,CD8-APC-Cy7,CD19-PE-AF610,CD28-PE,CD45RA-BV605,CD45RO-PerCP-eF710,CD69-BV421,CD127-BV711,CCR7-AF488,Ki67-PE,T cell proliferation panel     96\n",
       "CD3-BV650,CD45RA-BV605,,,,,,,T cell Surface Panel 2                                                                                                            18\n",
       "CD3-BV650,CD8-APC-Cy7,CD19-PE-AF610,CD45RA-BV605,CD45RO-PerCP-eF710,CD69-BV421,CCR7-AF488,,,,,,T cell Surface Panel 5                                          18\n",
       "CD3-BV650,CD8-APC-Cy7,CD19-PE-AF610,CD45RA-BV605,CD45RO-PerCP-eF710,CD69-BV421,CCR7-AF488,,,,,T cell Surface Panel 4                                           18\n",
       "CD3-BV650,CD8-APC-Cy7,CD19-PE-AF610,CD45RA-BV605,CD45RO-PerCP-eF710,CD69-BV421,CCR7-AF488,,,,,T cell Surface Panel 6                                           18\n",
       "CD3-BV650,CD8-APC-Cy7,CD19-PE-AF610,CD45RA-BV605,CD45RO-PerCP-eF710,CD69-BV421,CCR7-AF488,,,,,T cell Surface Panel 7                                           32\n",
       "CD8-APC-Cy7,CD45RA-BV605,CD45RO-PerCP-eF710,CD69-BV421,CCR7-AF488,,,,,T cell Surface Panel 3                                                                   18\n",
       "Name: Biosample Type, dtype: int64"
      ]
     },
     "execution_count": 6,
     "metadata": {},
     "output_type": "execute_result"
    }
   ],
   "source": [
    "FCS.groupby(\"Reagent Name\").count()[\"Biosample Type\"]\n"
   ]
  },
  {
   "cell_type": "code",
   "execution_count": 7,
   "metadata": {},
   "outputs": [
    {
     "data": {
      "application/vnd.jupyter.widget-view+json": {
       "model_id": "bbe1010af90744e38af0dc50eb6c2779",
       "version_major": 2,
       "version_minor": 0
      },
      "text/plain": [
       "QgridWidget(grid_options={'fullWidthRows': True, 'syncColumnCellResize': True, 'forceFitColumns': False, 'defa…"
      ]
     },
     "metadata": {},
     "output_type": "display_data"
    }
   ],
   "source": [
    "qgrid.show_grid(FCS, grid_options={'forceFitColumns': False, 'defaultColumnWidth': 200})"
   ]
  },
  {
   "cell_type": "code",
   "execution_count": 8,
   "metadata": {},
   "outputs": [
    {
     "data": {
      "application/vnd.jupyter.widget-view+json": {
       "model_id": "ae93b22471b24c838463340572b1c818",
       "version_major": 2,
       "version_minor": 0
      },
      "text/plain": [
       "QgridWidget(grid_options={'fullWidthRows': True, 'syncColumnCellResize': True, 'forceFitColumns': False, 'defa…"
      ]
     },
     "metadata": {},
     "output_type": "display_data"
    }
   ],
   "source": [
    "qgrid.show_grid(FCS, grid_options={'forceFitColumns': False, 'defaultColumnWidth': 200})"
   ]
  },
  {
   "cell_type": "code",
   "execution_count": null,
   "metadata": {},
   "outputs": [],
   "source": []
  }
 ],
 "metadata": {
  "kernelspec": {
   "display_name": "Python 3",
   "language": "python",
   "name": "python3"
  },
  "language_info": {
   "codemirror_mode": {
    "name": "ipython",
    "version": 3
   },
   "file_extension": ".py",
   "mimetype": "text/x-python",
   "name": "python",
   "nbconvert_exporter": "python",
   "pygments_lexer": "ipython3",
   "version": "3.6.5"
  }
 },
 "nbformat": 4,
 "nbformat_minor": 2
}
